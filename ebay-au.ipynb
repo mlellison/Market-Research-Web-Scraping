{
 "cells": [
  {
   "cell_type": "markdown",
   "id": "cabb62d0",
   "metadata": {},
   "source": [
    "Web scraping for ebay\n",
    "- We are required to create tools to scrape price data from websites for the iphone 11\n",
    "- we need price and item information\n",
    "- this tool is for ebay"
   ]
  },
  {
   "cell_type": "code",
   "execution_count": 32,
   "id": "54a472a1",
   "metadata": {},
   "outputs": [],
   "source": [
    "#loads required package for scraping\n",
    "import csv\n",
    "import requests\n",
    "from lxml import html"
   ]
  },
  {
   "cell_type": "code",
   "execution_count": 33,
   "id": "3a8e7997",
   "metadata": {},
   "outputs": [],
   "source": [
    "#To create url path for next page for scraping\n",
    "def get_page_items(tree):\n",
    "    container = tree.xpath(\"//ul[contains(@class, 'srp-results')]\")\n",
    "    if container:\n",
    "        return container[0].xpath(\".//li[contains(@class, 's-item')]\")\n",
    "    else:\n",
    "        return []"
   ]
  },
  {
   "cell_type": "code",
   "execution_count": 34,
   "id": "fa1043cb",
   "metadata": {},
   "outputs": [],
   "source": [
    "#Creating varible for search items records and linking the required subset\n",
    "def create_search_record(item):\n",
    "    title = \"\".join(item.xpath(\".//h3/text()\"))\n",
    "    sub_title = \"\".join(item.xpath(\".//div[@class='s-item__subtitle']/text()\"))\n",
    "    sub_title += \" \" + \\\n",
    "        \"\".join(item.xpath(\n",
    "            \".//div[@class='s-item__subtitle']//span[@class='SECONDARY_INFO']/text()\"))\n",
    "    rating = \"\".join(item.xpath(\n",
    "        \".//div[@class='x-star-rating']//span[@class='clipped']/text()\"))\n",
    "    item_price = \"\".join(item.xpath(\".//span[@class='s-item__price']/text()\"))\n",
    "    shipping_cost = \"\".join(item.xpath(\".//span[@class='s-item__shipping s-item__logisticsCost']/text()\"))\n",
    "    trending_price = \"\".join(item.xpath(\n",
    "        \".//span[@class='s-item__trending-price']/span[@class='STRIKETHROUGH']/text()\"))\n",
    "    item_link = \"\".join(item.xpath(\".//a[@class='s-item__link']/@href\"))\n",
    "    return (title, sub_title, rating, item_price, trending_price, item_link, shipping_cost)"
   ]
  },
  {
   "cell_type": "code",
   "execution_count": 35,
   "id": "0687b50f",
   "metadata": {},
   "outputs": [],
   "source": [
    "#//*[@id=\"srp-river-results\"]/ul/li[1]/div/div[2]/div[2]/div[3]/span"
   ]
  },
  {
   "cell_type": "code",
   "execution_count": 36,
   "id": "3d51c8fe",
   "metadata": {},
   "outputs": [],
   "source": [
    "#Return the next page for search items\n",
    "def get_next_page(tree):\n",
    "    return \"\".join(tree.xpath(\"//a[@class='pagination__next']/@href\"))\n"
   ]
  },
  {
   "cell_type": "code",
   "execution_count": 37,
   "id": "788785c9",
   "metadata": {},
   "outputs": [],
   "source": [
    "#adding desired ebay Url and required next pages\n",
    "\n",
    "def search_ebay(keywords):\n",
    "    url = \"https://www.ebay.com.au/sch/i.html?&_nkw=\" + keywords.replace(\" \", \"+\")\n",
    "    response = requests.get(url)\n",
    "\n",
    "    # get first page\n",
    "    etree = html.fromstring(response.text)\n",
    "    page_data = []\n",
    "\n",
    "    # get remaining pages if existing\n",
    "    while True:\n",
    "        items = get_page_items(etree)\n",
    "        if not items:\n",
    "            break\n",
    "\n",
    "        for item in items:\n",
    "            page_data.append(create_search_record(item))\n",
    "\n",
    "        next_page = get_next_page(etree)\n",
    "        if not next_page:\n",
    "            break\n",
    "\n",
    "        response = requests.get(next_page)\n",
    "        if response.status_code != 200:\n",
    "            break\n",
    "\n",
    "        etree = html.fromstring(response.text)\n",
    "\n",
    "    return page_data"
   ]
  },
  {
   "cell_type": "code",
   "execution_count": 38,
   "id": "b6daeb36",
   "metadata": {},
   "outputs": [],
   "source": [
    "#Recording the data into a CSV file\n",
    "\n",
    "def save_results(records, filename, save_method='w'):\n",
    "    with open(filename, save_method, newline='', encoding='utf-8') as f:\n",
    "        writer = csv.writer(f)\n",
    "        writer.writerow(['Title', 'SubTitle', 'Rating',\n",
    "                         'ItemPrice', 'TrendingPrice', 'ItemLink','shipping_cost'])\n",
    "        writer.writerows(records)\n",
    "\n"
   ]
  },
  {
   "cell_type": "code",
   "execution_count": 39,
   "id": "d3d71e04",
   "metadata": {},
   "outputs": [],
   "source": [
    "#Define search parameters\n",
    "if __name__ == '__main__':\n",
    "\n",
    "    results = search_ebay('Iphone 11 128gb')\n",
    "\n",
    "    if results:\n",
    "        save_results(results, 'Iphone_11_128gb_au.csv')"
   ]
  },
  {
   "cell_type": "code",
   "execution_count": 40,
   "id": "a0cce218",
   "metadata": {},
   "outputs": [],
   "source": [
    "#Define search parameters\n",
    "if __name__ == '__main__':\n",
    "\n",
    "    results = search_ebay('Iphone 11 pro 64gb')\n",
    "\n",
    "    if results:\n",
    "        save_results(results, 'Iphone_11_64gb_au.csv')"
   ]
  },
  {
   "cell_type": "code",
   "execution_count": 41,
   "id": "f792eaee",
   "metadata": {},
   "outputs": [],
   "source": [
    "#Define search parameters\n",
    "if __name__ == '__main__':\n",
    "\n",
    "    results = search_ebay('Iphone 11 256gb')\n",
    "\n",
    "    if results:\n",
    "        save_results(results, 'Iphone_11_256gb_au.csv')"
   ]
  },
  {
   "cell_type": "code",
   "execution_count": 42,
   "id": "41214024",
   "metadata": {},
   "outputs": [],
   "source": [
    "#Define search parameters\n",
    "if __name__ == '__main__':\n",
    "\n",
    "    results = search_ebay('Iphone 11 pro 256gb')\n",
    "\n",
    "    if results:\n",
    "        save_results(results, 'Iphone_11_pro_256gb_au.csv')"
   ]
  },
  {
   "cell_type": "code",
   "execution_count": 43,
   "id": "67393bb4",
   "metadata": {},
   "outputs": [],
   "source": [
    "#Define search parameters\n",
    "if __name__ == '__main__':\n",
    "\n",
    "    results = search_ebay('Iphone 11 pro 512gb')\n",
    "\n",
    "    if results:\n",
    "        save_results(results, 'Iphone_11_pro_512gb_max_au.csv')"
   ]
  },
  {
   "cell_type": "code",
   "execution_count": 44,
   "id": "9b070baf",
   "metadata": {},
   "outputs": [],
   "source": [
    "#Define search parameters\n",
    "if __name__ == '__main__':\n",
    "\n",
    "    results = search_ebay('Iphone 11 pro max 256gb')\n",
    "\n",
    "    if results:\n",
    "        save_results(results, 'Iphone_11_pro_max_256gb_au.csv')"
   ]
  },
  {
   "cell_type": "code",
   "execution_count": 45,
   "id": "5d0099fb",
   "metadata": {},
   "outputs": [],
   "source": [
    "#Define search parameters\n",
    "if __name__ == '__main__':\n",
    "\n",
    "    results = search_ebay('Iphone 11 pro max 512gb')\n",
    "\n",
    "    if results:\n",
    "        save_results(results, 'Iphone_11_pro_max_512gb_au.csv')"
   ]
  },
  {
   "cell_type": "code",
   "execution_count": 46,
   "id": "b6709958",
   "metadata": {},
   "outputs": [],
   "source": [
    "#Define search parameters\n",
    "if __name__ == '__main__':\n",
    "\n",
    "    results = search_ebay('Iphone 11 pro max 64gb')\n",
    "\n",
    "    if results:\n",
    "        save_results(results, 'Iphone_11_pro_max_64gb_au.csv')"
   ]
  },
  {
   "cell_type": "code",
   "execution_count": null,
   "id": "55580a00",
   "metadata": {},
   "outputs": [],
   "source": []
  },
  {
   "cell_type": "code",
   "execution_count": null,
   "id": "277d3ef0",
   "metadata": {},
   "outputs": [],
   "source": []
  },
  {
   "cell_type": "code",
   "execution_count": null,
   "id": "6cbdbd7d",
   "metadata": {},
   "outputs": [],
   "source": []
  }
 ],
 "metadata": {
  "kernelspec": {
   "display_name": "Python 3 (ipykernel)",
   "language": "python",
   "name": "python3"
  },
  "language_info": {
   "codemirror_mode": {
    "name": "ipython",
    "version": 3
   },
   "file_extension": ".py",
   "mimetype": "text/x-python",
   "name": "python",
   "nbconvert_exporter": "python",
   "pygments_lexer": "ipython3",
   "version": "3.9.7"
  }
 },
 "nbformat": 4,
 "nbformat_minor": 5
}
